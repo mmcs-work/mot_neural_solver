{
 "cells": [
  {
   "cell_type": "code",
   "execution_count": 37,
   "metadata": {},
   "outputs": [],
   "source": [
    "import glob\n",
    "files = glob.glob('./data/CTMCCVPR20/train/*')\n",
    "mot17files = glob.glob('./data/MOT17Det/train/*')\n",
    "mot15files = glob.glob('./data/2DMOT2015/train/*')"
   ]
  },
  {
   "cell_type": "code",
   "execution_count": 38,
   "metadata": {},
   "outputs": [
    {
     "name": "stdout",
     "output_type": "stream",
     "text": [
      "APM-run05 2006\n",
      "A-10-run03 1891\n",
      "MDBK-run07 1824\n",
      "LLC-MK2-run03 2040\n",
      "A-549-run03 1592\n",
      "MDBK-run03 780\n",
      "LLC-MK2-run01 1866\n",
      "MDBK-run01 368\n",
      "OK-run01 1200\n",
      "U2O-S-run03 1972\n",
      "3T3-run05 2039\n",
      "OK-run05 1350\n",
      "LLC-MK2-run02a 1050\n",
      "MDOK-run09 2073\n",
      "MDOK-run05 1894\n",
      "MDOK-run03 763\n",
      "CRE-BAG2-run03 1652\n",
      "BPAE-run07 2160\n",
      "OK-run07 1620\n",
      "BPAE-run01 1568\n",
      "CV-1-run01 1842\n",
      "MDOK-run07 1972\n",
      "BPAE-run05 1775\n",
      "MDOK-run01 2100\n",
      "3T3-run07 1931\n",
      "APM-run01 1794\n",
      "CRE-BAG2-run01 1931\n",
      "CV-1-run03 1613\n",
      "MDBK-run05 1500\n",
      "BPAE-run03 1803\n",
      "RK-13-run03 900\n",
      "PL1Ut-run01 1731\n",
      "PL1Ut-run05 1470\n",
      "RK-13-run01 1500\n",
      "3T3-run01 1770\n",
      "LLC-MK2-run07 2187\n",
      "A-10-run05 1571\n",
      "3T3-run03 2062\n",
      "OK-run03 1350\n",
      "MDBK-run09 2195\n",
      "U2O-S-run05 1972\n",
      "APM-run03 1458\n",
      "PL1Ut-run03 1848\n",
      "3T3-run09 2114\n",
      "A-10-run01 1969\n",
      "A-10-run07 2462\n",
      "LLC-MK2-run05 1861\n",
      "MOT17-13 750\n",
      "MOT17-02 600\n",
      "MOT17-10 654\n",
      "MOT17-09 525\n",
      "MOT17-04 1050\n",
      "MOT17-11 900\n",
      "MOT17-05 837\n",
      "KITTI-13 340\n",
      "TUD-Campus 71\n",
      "PETS09-S2L1 795\n",
      "ETH-Bahnhof 1000\n",
      "Venice-2 600\n",
      "TUD-Stadtmitte 179\n",
      "ADL-Rundle-8 654\n",
      "KITTI-17 145\n",
      "ADL-Rundle-6 525\n",
      "ETH-Sunnyday 354\n",
      "ETH-Pedcross2 837\n"
     ]
    }
   ],
   "source": [
    "seq_frame_lens = []\n",
    "X = []\n",
    "seq_frame_mot17_lens = []\n",
    "seq_frame_mot15_lens = []\n",
    "for f in files:\n",
    "    ff = glob.glob(f'{f}/img1/*')\n",
    "    #print(f.split('/')[-1],len(ff))\n",
    "    X.append(f.split('/')[-1])\n",
    "    seq_frame_lens.append(len(ff))\n",
    "\n",
    "for f in mot17files:\n",
    "    ff = glob.glob(f'{f}/img1/*')\n",
    "    #print(f.split('/')[-1],len(ff))\n",
    "    X.append(f.split('/')[-1])\n",
    "    seq_frame_mot17_lens.append(len(ff))\n",
    "\n",
    "for f in mot15files:\n",
    "    ff = glob.glob(f'{f}/img1/*')\n",
    "    #print(f.split('/')[-1],len(ff))\n",
    "    X.append(f.split('/')[-1])\n",
    "    seq_frame_mot15_lens.append(len(ff))\n",
    "\n",
    "seq_frame_lens = np.sort(seq_frame_lens)\n",
    "seq_frame_mot15_lens = np.sort(seq_frame_mot15_lens)\n",
    "seq_frame_mot17_lens = np.sort(seq_frame_mot17_lens)"
   ]
  },
  {
   "cell_type": "code",
   "execution_count": 35,
   "metadata": {},
   "outputs": [
    {
     "data": {
      "text/plain": [
       "[<matplotlib.lines.Line2D at 0x7f4270377c10>]"
      ]
     },
     "execution_count": 35,
     "metadata": {},
     "output_type": "execute_result"
    },
    {
     "data": {
      "image/png": "[encoded data removed]",
      "text/plain": [
       "<Figure size 432x288 with 1 Axes>"
      ]
     },
     "metadata": {
      "needs_background": "light"
     },
     "output_type": "display_data"
    }
   ],
   "source": [
    "import numpy as np\n",
    "import matplotlib.pyplot as plt\n",
    "# import collections\n",
    "plt.plot(np.sort(seq_frame_lens))\n"
   ]
  },
  {
   "cell_type": "code",
   "execution_count": 31,
   "metadata": {},
   "outputs": [
    {
     "data": {
      "text/plain": [
       "[]"
      ]
     },
     "execution_count": 31,
     "metadata": {},
     "output_type": "execute_result"
    }
   ],
   "source": [
    "seq_frame_mot17_lens"
   ]
  },
  {
   "cell_type": "code",
   "execution_count": 36,
   "metadata": {},
   "outputs": [
    {
     "data": {
      "text/plain": [
       "[<matplotlib.lines.Line2D at 0x7f4267f55450>]"
      ]
     },
     "execution_count": 36,
     "metadata": {},
     "output_type": "execute_result"
    },
    {
     "data": {
      "image/png": "[encoded data removed]",
      "text/plain": [
       "<Figure size 432x288 with 1 Axes>"
      ]
     },
     "metadata": {
      "needs_background": "light"
     },
     "output_type": "display_data"
    }
   ],
   "source": [
    "plt.plot(np.sort(seq_frame_mot17_lens))"
   ]
  },
  {
   "cell_type": "code",
   "execution_count": null,
   "metadata": {},
   "outputs": [],
   "source": [
    "sorted_mot17 = "
   ]
  }
 ],
 "metadata": {
  "interpreter": {
   "hash": "31f2aee4e71d21fbe5cf8b01ff0e069b9275f58929596ceb00d14d90e3e16cd6"
  },
  "kernelspec": {
   "display_name": "Python 3.7.12 64-bit",
   "language": "python",
   "name": "python3"
  },
  "language_info": {
   "codemirror_mode": {
    "name": "ipython",
    "version": 3
   },
   "file_extension": ".py",
   "mimetype": "text/x-python",
   "name": "python",
   "nbconvert_exporter": "python",
   "pygments_lexer": "ipython3",
   "version": "3.7.12"
  },
  "orig_nbformat": 4
 },
 "nbformat": 4,
 "nbformat_minor": 2
}
